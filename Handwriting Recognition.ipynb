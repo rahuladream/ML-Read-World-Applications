{
 "cells": [
  {
   "cell_type": "markdown",
   "metadata": {},
   "source": [
    "### Model\n",
    "Multi layer CNN in Keras to classify\n"
   ]
  },
  {
   "cell_type": "code",
   "execution_count": 7,
   "metadata": {},
   "outputs": [],
   "source": [
    "# Importing * the libraries\n",
    "from __future__ import division\n",
    "import numpy as np\n",
    "import os,glob\n",
    "from PIL import Image\n",
    "from random import *\n",
    "from keras.utils import to_categorical\n",
    "from sklearn.preprocessing import LabelEncoder\n",
    "import matplotlib.pyplot as plt\n",
    "import matplotlib.image as mpimg\n",
    "%matplotlib inline\n",
    "\n",
    "from keras.models import Sequential\n",
    "from keras.layers import Dense, Dropout, Flatten, Lambda, ELU, Activation, BatchNormalization\n",
    "from keras.layers.convolutional import Convolution2D, Cropping2D, ZeroPadding2D, MaxPooling2D\n",
    "from keras.optimizers import SGD, Adam, RMSprop"
   ]
  },
  {
   "cell_type": "code",
   "execution_count": 11,
   "metadata": {},
   "outputs": [],
   "source": [
    "file = 'forms_for_parsing.txt'"
   ]
  },
  {
   "cell_type": "code",
   "execution_count": 13,
   "metadata": {},
   "outputs": [],
   "source": [
    "# create sentance writer mapping\n",
    "# dictionary with form and writer mapping\n",
    "d = {}\n",
    "with open(file) as f:\n",
    "    for line in f:\n",
    "        key = line.split(' ')[0]\n",
    "        writer = line.split(' ')[1]\n",
    "        d[key] = writer"
   ]
  },
  {
   "cell_type": "code",
   "execution_count": 14,
   "metadata": {},
   "outputs": [],
   "source": [
    "# create array of file names and corresponding target writer names\n",
    "tmp = []\n",
    "target_list = []\n",
    "path_to_files = os.path.join('data_subset', '*')"
   ]
  },
  {
   "cell_type": "code",
   "execution_count": 16,
   "metadata": {},
   "outputs": [],
   "source": [
    "for filename in sorted(glob.glob(path_to_files)):\n",
    "    tmp.append(filename)\n",
    "    image_name = filename.split('/')[-1]\n",
    "    file, ext = os.path.splitext(image_name)\n",
    "    parts = file.split('-')\n",
    "    form = parts[0] + '-' + parts[1]\n",
    "    for key in d:\n",
    "        if key == form:\n",
    "            target_list.append(str(d[form]))\n",
    "            \n",
    "img_files = np.asarray(tmp)\n",
    "img_targets = np.asarray(target_list)"
   ]
  },
  {
   "cell_type": "code",
   "execution_count": 17,
   "metadata": {},
   "outputs": [
    {
     "data": {
      "text/plain": [
       "array([], dtype=float64)"
      ]
     },
     "execution_count": 17,
     "metadata": {},
     "output_type": "execute_result"
    }
   ],
   "source": [
    "img_files"
   ]
  },
  {
   "cell_type": "code",
   "execution_count": 18,
   "metadata": {},
   "outputs": [],
   "source": [
    "# visualizing data\n",
    "for filename in img_files[:3]:\n",
    "    img = mpimg.imread(filename)\n",
    "    plt.figure(figsize=(10,10))\n",
    "    plt.imgshow(img, cmap='gray')"
   ]
  },
  {
   "cell_type": "code",
   "execution_count": null,
   "metadata": {},
   "outputs": [],
   "source": []
  }
 ],
 "metadata": {
  "kernelspec": {
   "display_name": "venv",
   "language": "python",
   "name": "venv"
  },
  "language_info": {
   "codemirror_mode": {
    "name": "ipython",
    "version": 3
   },
   "file_extension": ".py",
   "mimetype": "text/x-python",
   "name": "python",
   "nbconvert_exporter": "python",
   "pygments_lexer": "ipython3",
   "version": "3.6.9"
  }
 },
 "nbformat": 4,
 "nbformat_minor": 2
}
